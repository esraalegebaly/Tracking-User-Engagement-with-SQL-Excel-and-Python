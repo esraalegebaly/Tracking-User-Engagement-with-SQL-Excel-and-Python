{
 "cells": [
  {
   "cell_type": "markdown",
   "id": "c8f4431e",
   "metadata": {},
   "source": [
    "## Importing the relevant libraries"
   ]
  },
  {
   "cell_type": "code",
   "execution_count": null,
   "id": "31c8e2e0",
   "metadata": {},
   "outputs": [],
   "source": [
    "import pandas as pd\n",
    "import matplotlib.pyplot as plt\n",
    "import seaborn as sns\n",
    "sns.set()"
   ]
  },
  {
   "cell_type": "markdown",
   "id": "f8c67c89",
   "metadata": {},
   "source": [
    "## Reading the CSV files"
   ]
  },
  {
   "cell_type": "code",
   "execution_count": null,
   "id": "2395775a",
   "metadata": {},
   "outputs": [],
   "source": [
    "data1 = pd.read_csv('minutes_watched_2021_paid_0.csv')\n",
    "data2 = pd.read_csv('minutes_watched_2022_paid_0.csv')\n",
    "data3 = pd.read_csv('minutes_watched_2021_paid_1.csv')\n",
    "data4 = pd.read_csv('minutes_watched_2022_paid_1.csv')"
   ]
  },
  {
   "cell_type": "code",
   "execution_count": null,
   "id": "cfb894ed",
   "metadata": {},
   "outputs": [],
   "source": [
    "data1.head()"
   ]
  },
  {
   "cell_type": "markdown",
   "id": "0253cdf9",
   "metadata": {},
   "source": [
    "## Plot the distributions"
   ]
  },
  {
   "cell_type": "code",
   "execution_count": null,
   "id": "8583ca54",
   "metadata": {},
   "outputs": [],
   "source": [
    "fig, axes = plt.subplots(2, 2, figsize =(15,10))\n",
    "\n",
    "sns.kdeplot(data1['minutes_watched'], ax = axes[0, 0]).set(title = 'Free-Plan Students for Q2 2021')\n",
    "sns.kdeplot(data2['minutes_watched'], ax = axes[0, 1]).set(title = 'Free-Plan Students for Q2 2022')\n",
    "sns.kdeplot(data3['minutes_watched'], ax = axes[1, 0]).set(title = 'Paying Students for Q2 2021')\n",
    "sns.kdeplot(data4['minutes_watched'], ax = axes[1, 1]).set(title = 'Paying Students for Q2 2022')\n",
    "\n",
    "fig.tight_layout(pad = 3.0)\n",
    "\n",
    "plt.show()"
   ]
  }
 ],
 "metadata": {
  "kernelspec": {
   "display_name": "Python 3 (ipykernel)",
   "language": "python",
   "name": "python3"
  },
  "language_info": {
   "codemirror_mode": {
    "name": "ipython",
    "version": 3
   },
   "file_extension": ".py",
   "mimetype": "text/x-python",
   "name": "python",
   "nbconvert_exporter": "python",
   "pygments_lexer": "ipython3",
   "version": "3.8.17"
  }
 },
 "nbformat": 4,
 "nbformat_minor": 5
}
