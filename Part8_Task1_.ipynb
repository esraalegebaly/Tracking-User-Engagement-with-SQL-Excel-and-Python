{
 "cells": [
  {
   "cell_type": "markdown",
   "id": "ac5dbb45",
   "metadata": {},
   "source": [
    "## Importing the relevant libraries"
   ]
  },
  {
   "cell_type": "code",
   "execution_count": null,
   "id": "d2d18cf8",
   "metadata": {
    "scrolled": true
   },
   "outputs": [],
   "source": [
    "import pandas as pd\n",
    "import matplotlib.pyplot as plt\n",
    "from sklearn.linear_model import LinearRegression\n",
    "from sklearn.model_selection import train_test_split\n",
    "import seaborn as sns\n",
    "sns.set()"
   ]
  },
  {
   "cell_type": "markdown",
   "id": "50023163",
   "metadata": {},
   "source": [
    "## Reading the CSV file"
   ]
  },
  {
   "cell_type": "code",
   "execution_count": null,
   "id": "0e434cae",
   "metadata": {
    "scrolled": true
   },
   "outputs": [],
   "source": [
    "raw_data = pd.read_csv('minutes_and_certificates.csv')\n",
    "\n",
    "data = raw_data.copy()\n",
    "data.head()"
   ]
  },
  {
   "cell_type": "markdown",
   "id": "3de2b81f",
   "metadata": {},
   "source": [
    "## Splitting the data into inputs and target"
   ]
  },
  {
   "cell_type": "code",
   "execution_count": null,
   "id": "76fdcf3f",
   "metadata": {
    "scrolled": true
   },
   "outputs": [],
   "source": [
    "target = data['certificates_issued']\n",
    "inputs = data['minutes_watched']"
   ]
  },
  {
   "cell_type": "markdown",
   "id": "203774f1",
   "metadata": {},
   "source": [
    "## Splitting the data into training and test sets"
   ]
  },
  {
   "cell_type": "code",
   "execution_count": null,
   "id": "5ffa5cff",
   "metadata": {
    "scrolled": true
   },
   "outputs": [],
   "source": [
    "x_train, x_test, y_train, y_test = train_test_split(inputs, \n",
    "                                                    target, \n",
    "                                                    test_size=0.2, \n",
    "                                                    random_state=365)\n",
    "\n",
    "x_train = x_train.to_numpy() \n",
    "x_test = x_test.to_numpy() \n",
    "y_train = y_train.to_numpy() \n",
    "y_test = y_test.to_numpy() \n",
    "\n",
    "x_train = x_train.reshape(-1, 1)\n",
    "x_test = x_test.reshape(-1, 1)"
   ]
  },
  {
   "cell_type": "markdown",
   "id": "8d577a8c",
   "metadata": {},
   "source": [
    "## Creating the model and fitting it to the data"
   ]
  },
  {
   "cell_type": "code",
   "execution_count": null,
   "id": "2282413e",
   "metadata": {
    "scrolled": true
   },
   "outputs": [],
   "source": [
    "reg = LinearRegression()\n",
    "reg.fit(x_train,y_train)"
   ]
  },
  {
   "cell_type": "code",
   "execution_count": null,
   "id": "f7c37647",
   "metadata": {
    "scrolled": true
   },
   "outputs": [],
   "source": [
    "reg.intercept_, reg.coef_"
   ]
  },
  {
   "cell_type": "markdown",
   "id": "b137665a",
   "metadata": {},
   "source": [
    "## Calculating the R-squared value "
   ]
  },
  {
   "cell_type": "code",
   "execution_count": null,
   "id": "89464484",
   "metadata": {},
   "outputs": [],
   "source": [
    "reg.score(x_train, y_train)"
   ]
  },
  {
   "cell_type": "markdown",
   "id": "0e47ff70",
   "metadata": {},
   "source": [
    "## Making predictions"
   ]
  },
  {
   "cell_type": "code",
   "execution_count": null,
   "id": "dcb6ad56",
   "metadata": {
    "scrolled": true
   },
   "outputs": [],
   "source": [
    "y_hat_test = reg.predict(x_test)"
   ]
  },
  {
   "cell_type": "code",
   "execution_count": null,
   "id": "86aa9b61",
   "metadata": {
    "scrolled": true
   },
   "outputs": [],
   "source": [
    "reg.predict([[1200]])"
   ]
  },
  {
   "cell_type": "markdown",
   "id": "9144af7c",
   "metadata": {},
   "source": [
    "## Plotting the results"
   ]
  },
  {
   "cell_type": "code",
   "execution_count": null,
   "id": "fad0d028",
   "metadata": {
    "scrolled": false
   },
   "outputs": [],
   "source": [
    "plt.scatter(y_test, y_hat_test)\n",
    "plt.xlabel('Targets (y_test)',size=18)\n",
    "plt.ylabel('Predictions (y_hat_test)',size=18)\n",
    "plt.show()"
   ]
  }
 ],
 "metadata": {
  "kernelspec": {
   "display_name": "Python 3 (ipykernel)",
   "language": "python",
   "name": "python3"
  },
  "language_info": {
   "codemirror_mode": {
    "name": "ipython",
    "version": 3
   },
   "file_extension": ".py",
   "mimetype": "text/x-python",
   "name": "python",
   "nbconvert_exporter": "python",
   "pygments_lexer": "ipython3",
   "version": "3.8.17"
  }
 },
 "nbformat": 4,
 "nbformat_minor": 5
}
